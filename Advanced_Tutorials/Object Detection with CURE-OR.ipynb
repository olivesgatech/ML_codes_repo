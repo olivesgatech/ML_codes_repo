{
 "cells": [
  {
   "cell_type": "markdown",
   "metadata": {},
   "source": [
    "# Objective\n",
    "The objective of this exercise is to familiarize you with the \"Challenging Unreal and Real Environments for Object Recognition (CURE-OR)\" Dataset. This is one of the largest datasets generated as of yet to help benchmark studies regarding the robustness of object recognition algorithms under a variety of different conditions. For our purposes, we will be using a smaller version of this dataset, called \"mini CURE-OR\", that contains a smaller subset of the larger version for a variety of different backgrounds, camera poses, noise etc."
   ]
  },
  {
   "cell_type": "code",
   "execution_count": null,
   "metadata": {},
   "outputs": [],
   "source": []
  }
 ],
 "metadata": {
  "kernelspec": {
   "display_name": "Python 3",
   "language": "python",
   "name": "python3"
  },
  "language_info": {
   "codemirror_mode": {
    "name": "ipython",
    "version": 3
   },
   "file_extension": ".py",
   "mimetype": "text/x-python",
   "name": "python",
   "nbconvert_exporter": "python",
   "pygments_lexer": "ipython3",
   "version": "3.7.4"
  }
 },
 "nbformat": 4,
 "nbformat_minor": 4
}
