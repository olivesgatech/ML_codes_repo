{
  "nbformat": 4,
  "nbformat_minor": 0,
  "metadata": {
    "colab": {
      "name": "Lecture 01 - Python_basics.ipynb",
      "provenance": [],
      "collapsed_sections": [],
      "toc_visible": true
    },
    "kernelspec": {
      "name": "python3",
      "display_name": "Python 3"
    },
    "accelerator": "GPU"
  },
  "cells": [
    {
      "cell_type": "markdown",
      "metadata": {
        "id": "uPQ4ASmvY6BF"
      },
      "source": [
        "# Math operations and expressions"
      ]
    },
    {
      "cell_type": "markdown",
      "metadata": {
        "id": "7H9HvagcaSOB"
      },
      "source": [
        "## Addition"
      ]
    },
    {
      "cell_type": "markdown",
      "metadata": {
        "id": "1SigRm13YaGa"
      },
      "source": [
        "Addition works as expected in any programming language. \n",
        "Adding two integers, results in an integer. "
      ]
    },
    {
      "cell_type": "code",
      "metadata": {
        "id": "J-cz4q7eYZME"
      },
      "source": [
        "1+1"
      ],
      "execution_count": null,
      "outputs": []
    },
    {
      "cell_type": "markdown",
      "metadata": {
        "id": "HVAOdyesZYEk"
      },
      "source": [
        "Adding float numbers results in a floar number"
      ]
    },
    {
      "cell_type": "code",
      "metadata": {
        "id": "OsArZ8rcZK2n"
      },
      "source": [
        "1.2 + 4.3"
      ],
      "execution_count": null,
      "outputs": []
    },
    {
      "cell_type": "code",
      "metadata": {
        "id": "lETxCE0oZdyb"
      },
      "source": [
        "1.0 + 4.0"
      ],
      "execution_count": null,
      "outputs": []
    },
    {
      "cell_type": "markdown",
      "metadata": {
        "id": "lNPM07HFaWmN"
      },
      "source": [
        "## Subtraction"
      ]
    },
    {
      "cell_type": "markdown",
      "metadata": {
        "id": "j2ogdLbSZJAn"
      },
      "source": [
        "Same goes for subtraction"
      ]
    },
    {
      "cell_type": "code",
      "metadata": {
        "id": "VJgzekWPXUKc"
      },
      "source": [
        "4-2"
      ],
      "execution_count": null,
      "outputs": []
    },
    {
      "cell_type": "code",
      "metadata": {
        "id": "bw4a3TkAZmL5"
      },
      "source": [
        "2-1"
      ],
      "execution_count": null,
      "outputs": []
    },
    {
      "cell_type": "code",
      "metadata": {
        "id": "cWavcmeRZnj0"
      },
      "source": [
        "3.2 + 1.2"
      ],
      "execution_count": null,
      "outputs": []
    },
    {
      "cell_type": "markdown",
      "metadata": {
        "id": "9RVC3OQwaZ30"
      },
      "source": [
        "## Multiplication"
      ]
    },
    {
      "cell_type": "markdown",
      "metadata": {
        "id": "fdh8w5YBZsSb"
      },
      "source": [
        "Same goes for multiplication as well "
      ]
    },
    {
      "cell_type": "code",
      "metadata": {
        "id": "rq-b5RVjZw9E"
      },
      "source": [
        "4*9"
      ],
      "execution_count": null,
      "outputs": []
    },
    {
      "cell_type": "code",
      "metadata": {
        "id": "HsmzEEMkZym1"
      },
      "source": [
        "4.0*9"
      ],
      "execution_count": null,
      "outputs": []
    },
    {
      "cell_type": "markdown",
      "metadata": {
        "id": "oHiRP2SkacLU"
      },
      "source": [
        "## Division"
      ]
    },
    {
      "cell_type": "markdown",
      "metadata": {
        "id": "RDDmcuIBZ1Dn"
      },
      "source": [
        "However, division always results in a float number "
      ]
    },
    {
      "cell_type": "code",
      "metadata": {
        "id": "QzDWiIk2Z7Fu"
      },
      "source": [
        "8/4"
      ],
      "execution_count": null,
      "outputs": []
    },
    {
      "cell_type": "code",
      "metadata": {
        "id": "xCTT0pSPZ9B5"
      },
      "source": [
        "7/2"
      ],
      "execution_count": null,
      "outputs": []
    },
    {
      "cell_type": "markdown",
      "metadata": {
        "id": "FG12khm1cS8q"
      },
      "source": [
        "Division by 0 results in an error"
      ]
    },
    {
      "cell_type": "code",
      "metadata": {
        "id": "w9d3SMDQcOVY"
      },
      "source": [
        "1/0"
      ],
      "execution_count": null,
      "outputs": []
    },
    {
      "cell_type": "markdown",
      "metadata": {
        "id": "FsqTZGW3afC-"
      },
      "source": [
        "## Power"
      ]
    },
    {
      "cell_type": "markdown",
      "metadata": {
        "id": "CJqsrbYoaGIl"
      },
      "source": [
        "Power in Python is expressed using ** "
      ]
    },
    {
      "cell_type": "code",
      "metadata": {
        "id": "xsf_ZjN1aKgD"
      },
      "source": [
        "2**3"
      ],
      "execution_count": null,
      "outputs": []
    },
    {
      "cell_type": "code",
      "metadata": {
        "id": "yT4xF68TaMgb"
      },
      "source": [
        "2.0**3"
      ],
      "execution_count": null,
      "outputs": []
    },
    {
      "cell_type": "markdown",
      "metadata": {
        "id": "V-pfAR0QahFb"
      },
      "source": [
        "## Remainder"
      ]
    },
    {
      "cell_type": "code",
      "metadata": {
        "id": "GDmypKCaaikO"
      },
      "source": [
        "10%3"
      ],
      "execution_count": null,
      "outputs": []
    },
    {
      "cell_type": "code",
      "metadata": {
        "id": "GjUNwZ74alAN"
      },
      "source": [
        "10%2.4"
      ],
      "execution_count": null,
      "outputs": []
    },
    {
      "cell_type": "markdown",
      "metadata": {
        "id": "vhmq0REbaD_Q"
      },
      "source": [
        "## Order of Operations"
      ]
    },
    {
      "cell_type": "markdown",
      "metadata": {
        "id": "hBJNirY-dbnA"
      },
      "source": [
        "It goes like this: \n",
        "- Power \n",
        "- Multiplication and division\n",
        "- Addition and subtraction"
      ]
    },
    {
      "cell_type": "code",
      "metadata": {
        "id": "nyy72nPTc2Mq"
      },
      "source": [
        "10+2*3"
      ],
      "execution_count": null,
      "outputs": []
    },
    {
      "cell_type": "code",
      "metadata": {
        "id": "mLdssKNydEZO"
      },
      "source": [
        "(10+2)*3"
      ],
      "execution_count": null,
      "outputs": []
    },
    {
      "cell_type": "code",
      "metadata": {
        "id": "pKnY-g0pdHdj"
      },
      "source": [
        "10+2**3"
      ],
      "execution_count": null,
      "outputs": []
    },
    {
      "cell_type": "code",
      "metadata": {
        "id": "t3uaJinid1YQ"
      },
      "source": [
        "(10+2)**3"
      ],
      "execution_count": null,
      "outputs": []
    },
    {
      "cell_type": "code",
      "metadata": {
        "id": "wCpfhV28dMT4"
      },
      "source": [
        "10*2**3"
      ],
      "execution_count": null,
      "outputs": []
    },
    {
      "cell_type": "code",
      "metadata": {
        "id": "7j-xgcmld7yJ"
      },
      "source": [
        "10+2**3/2"
      ],
      "execution_count": null,
      "outputs": []
    },
    {
      "cell_type": "markdown",
      "metadata": {
        "id": "b9lkmqafevjx"
      },
      "source": [
        "## Rounding"
      ]
    },
    {
      "cell_type": "code",
      "metadata": {
        "id": "Y2uTZEFSew5a"
      },
      "source": [
        "round(10.223)"
      ],
      "execution_count": null,
      "outputs": []
    },
    {
      "cell_type": "code",
      "metadata": {
        "id": "_OTAwIGKezIP"
      },
      "source": [
        "round(9.5)"
      ],
      "execution_count": null,
      "outputs": []
    },
    {
      "cell_type": "code",
      "metadata": {
        "id": "MUng3qHne3SH"
      },
      "source": [
        "round(4.2567,2)"
      ],
      "execution_count": null,
      "outputs": []
    },
    {
      "cell_type": "markdown",
      "metadata": {
        "id": "Z95xDVafd-yV"
      },
      "source": [
        "## Float representation in Python"
      ]
    },
    {
      "cell_type": "markdown",
      "metadata": {
        "id": "UCqShEi_fSDU"
      },
      "source": [
        "Read more here: \n",
        "https://docs.python.org/2/tutorial/floatingpoint.html"
      ]
    },
    {
      "cell_type": "code",
      "metadata": {
        "id": "KJ280UiHeBS_"
      },
      "source": [
        "10/3"
      ],
      "execution_count": null,
      "outputs": []
    },
    {
      "cell_type": "code",
      "metadata": {
        "id": "iIWgC8g_eNlj"
      },
      "source": [
        "0.1+0.2"
      ],
      "execution_count": null,
      "outputs": []
    },
    {
      "cell_type": "code",
      "metadata": {
        "id": "HzHw2bSlfV0o"
      },
      "source": [
        "(13**2)**0.5"
      ],
      "execution_count": null,
      "outputs": []
    },
    {
      "cell_type": "code",
      "metadata": {
        "id": "bxJauqGjfbQQ"
      },
      "source": [
        "(13**0.5)**2"
      ],
      "execution_count": null,
      "outputs": []
    },
    {
      "cell_type": "markdown",
      "metadata": {
        "id": "VqD03P1afhCU"
      },
      "source": [
        "# Variables"
      ]
    },
    {
      "cell_type": "markdown",
      "metadata": {
        "id": "vupTXhR6foez"
      },
      "source": [
        "Note that the assigment statement does not have an output"
      ]
    },
    {
      "cell_type": "code",
      "metadata": {
        "id": "S06L5F9RflFm"
      },
      "source": [
        "x = 2\n",
        "y = 1.2"
      ],
      "execution_count": null,
      "outputs": []
    },
    {
      "cell_type": "code",
      "metadata": {
        "id": "yK8ox-Tnfmpq"
      },
      "source": [
        "x"
      ],
      "execution_count": null,
      "outputs": []
    },
    {
      "cell_type": "code",
      "metadata": {
        "id": "gwdSCvnbgH_-"
      },
      "source": [
        "y"
      ],
      "execution_count": null,
      "outputs": []
    },
    {
      "cell_type": "markdown",
      "metadata": {
        "id": "y79nXiudf1o5"
      },
      "source": [
        "Although the variable types was not specified, it was inferred from the assignment. "
      ]
    },
    {
      "cell_type": "code",
      "metadata": {
        "id": "VW7HlKhlfy1O"
      },
      "source": [
        "type(x)"
      ],
      "execution_count": null,
      "outputs": []
    },
    {
      "cell_type": "code",
      "metadata": {
        "id": "d3eUnNT2gEiv"
      },
      "source": [
        "type(y)"
      ],
      "execution_count": null,
      "outputs": []
    },
    {
      "cell_type": "markdown",
      "metadata": {
        "id": "jr8Fjf5sK5Gj"
      },
      "source": [
        "Changing the value of a variable"
      ]
    },
    {
      "cell_type": "code",
      "metadata": {
        "id": "dWghjEQNLjbC"
      },
      "source": [
        "x+=1\n",
        "print(x)"
      ],
      "execution_count": null,
      "outputs": []
    },
    {
      "cell_type": "markdown",
      "metadata": {
        "id": "PhQwmwW0OvP2"
      },
      "source": [
        "# Loops"
      ]
    },
    {
      "cell_type": "code",
      "metadata": {
        "id": "4T_VlGO-Oxki"
      },
      "source": [
        "for i in range(10):\n",
        "  print(i)"
      ],
      "execution_count": null,
      "outputs": []
    },
    {
      "cell_type": "markdown",
      "metadata": {
        "id": "24Q628BfCV8b"
      },
      "source": [
        "Note that proper indentation is required"
      ]
    },
    {
      "cell_type": "code",
      "metadata": {
        "id": "3iP657M-O1Vu"
      },
      "source": [
        "for i in range(10):\n",
        "print(i)"
      ],
      "execution_count": null,
      "outputs": []
    },
    {
      "cell_type": "code",
      "metadata": {
        "id": "FJMEmWTcO3A_"
      },
      "source": [
        "j = 0\n",
        "while j<10: \n",
        "  j+=1 \n",
        "  print(j)"
      ],
      "execution_count": null,
      "outputs": []
    },
    {
      "cell_type": "markdown",
      "metadata": {
        "id": "1CWySMCxPC8e"
      },
      "source": [
        "# If statements"
      ]
    },
    {
      "cell_type": "code",
      "metadata": {
        "id": "Cngg00kmUl5H"
      },
      "source": [
        "password = 'Aa1234'\n",
        "if password == 'Aa1234': \n",
        "  print('access granted')"
      ],
      "execution_count": null,
      "outputs": []
    },
    {
      "cell_type": "code",
      "metadata": {
        "id": "YTouRAunUmfU"
      },
      "source": [
        "name = \"Ali\"\n",
        "if name!=\"Ahmad\": \n",
        "  print(\"You're not supposed to be here\")\n",
        "else: \n",
        "  print('Hi Ahmad')"
      ],
      "execution_count": null,
      "outputs": []
    },
    {
      "cell_type": "code",
      "metadata": {
        "id": "vBObWDxwPFI3"
      },
      "source": [
        "age = 19 \n",
        "if age>10: \n",
        "  print(\"You may ride\")"
      ],
      "execution_count": null,
      "outputs": []
    },
    {
      "cell_type": "code",
      "metadata": {
        "id": "m-NwUtM7PQ4e"
      },
      "source": [
        "age = 10\n",
        "if age>10: \n",
        "  print(\"You may ride\")\n",
        "else: \n",
        "  print(\"Sorry, you can not be on this ride\")"
      ],
      "execution_count": null,
      "outputs": []
    },
    {
      "cell_type": "code",
      "metadata": {
        "id": "Z6fQrDzNPcji"
      },
      "source": [
        "age = 10\n",
        "if age>=10: \n",
        "  print(\"You may ride\")\n",
        "else: \n",
        "  print(\"Sorry, you can not be on this ride\")"
      ],
      "execution_count": null,
      "outputs": []
    },
    {
      "cell_type": "code",
      "metadata": {
        "id": "wtdZM9xvPdYI"
      },
      "source": [
        "age = 99\n",
        "if 10<age<60: \n",
        "  print(\"You may ride\")\n",
        "else: \n",
        "  print(\"Sorry, you can not be on this ride\")"
      ],
      "execution_count": null,
      "outputs": []
    },
    {
      "cell_type": "code",
      "metadata": {
        "id": "hrEN5vwpPkAf"
      },
      "source": [
        "age = 12\n",
        "condition = \"unhealthy\"\n",
        "if 10<age<60 and condition == \"healthy\": \n",
        "  print(\"You may ride\")\n",
        "else: \n",
        "  print(\"Sorry, you can not be on this ride\")"
      ],
      "execution_count": null,
      "outputs": []
    },
    {
      "cell_type": "markdown",
      "metadata": {
        "id": "F_gjBfqgsdvA"
      },
      "source": [
        "# Strings"
      ]
    },
    {
      "cell_type": "markdown",
      "metadata": {
        "id": "ox3v02v0DFYZ"
      },
      "source": [
        "String variables can be assigned using single or double quotes \n"
      ]
    },
    {
      "cell_type": "code",
      "metadata": {
        "id": "bO1D7P0Sf7M0"
      },
      "source": [
        "x = \"aa\""
      ],
      "execution_count": null,
      "outputs": []
    },
    {
      "cell_type": "code",
      "metadata": {
        "id": "GVLQapIQgZWg"
      },
      "source": [
        "x"
      ],
      "execution_count": null,
      "outputs": []
    },
    {
      "cell_type": "markdown",
      "metadata": {
        "id": "iBOW6L2agYSE"
      },
      "source": [
        "You can use either, but you must be consistent"
      ]
    },
    {
      "cell_type": "code",
      "metadata": {
        "id": "79etcjKpgV_G"
      },
      "source": [
        "x = \"ab'"
      ],
      "execution_count": null,
      "outputs": []
    },
    {
      "cell_type": "markdown",
      "metadata": {
        "id": "M-RdKXongeFq"
      },
      "source": [
        "I personally prefer to use single quotes, unless I need to use them in the text\n"
      ]
    },
    {
      "cell_type": "code",
      "metadata": {
        "id": "6L1f74Qzgj0Z"
      },
      "source": [
        "x = \"I'm done here\""
      ],
      "execution_count": null,
      "outputs": []
    },
    {
      "cell_type": "code",
      "metadata": {
        "id": "JnYMk_RngoW4"
      },
      "source": [
        "x"
      ],
      "execution_count": null,
      "outputs": []
    },
    {
      "cell_type": "markdown",
      "metadata": {
        "id": "qyCTsvQVr_IU"
      },
      "source": [
        "You can convert a number to a string\n"
      ]
    },
    {
      "cell_type": "code",
      "metadata": {
        "id": "oZo88MPEsMb7"
      },
      "source": [
        "str(10)"
      ],
      "execution_count": null,
      "outputs": []
    },
    {
      "cell_type": "markdown",
      "metadata": {
        "id": "td70OrzqsK0j"
      },
      "source": [
        "or convert a string to a number "
      ]
    },
    {
      "cell_type": "code",
      "metadata": {
        "id": "8KXmMNAKsCis"
      },
      "source": [
        "int(\"1\")"
      ],
      "execution_count": null,
      "outputs": []
    },
    {
      "cell_type": "code",
      "metadata": {
        "id": "lWZ6cq_psGEc"
      },
      "source": [
        "float(\"2.3\")"
      ],
      "execution_count": null,
      "outputs": []
    },
    {
      "cell_type": "markdown",
      "metadata": {
        "id": "M4Z0deeOsg14"
      },
      "source": [
        "Concatenate strings using + sign"
      ]
    },
    {
      "cell_type": "code",
      "metadata": {
        "id": "GMSoUqRpslgu"
      },
      "source": [
        "\"Hello\" + \"world\""
      ],
      "execution_count": null,
      "outputs": []
    },
    {
      "cell_type": "markdown",
      "metadata": {
        "id": "y-1Xk5S6spyK"
      },
      "source": [
        "What would this do? "
      ]
    },
    {
      "cell_type": "code",
      "metadata": {
        "id": "CxXnAUOrssU7"
      },
      "source": [
        "\"Hello\" + 10"
      ],
      "execution_count": null,
      "outputs": []
    },
    {
      "cell_type": "code",
      "metadata": {
        "id": "NQP-sCZnsuw0"
      },
      "source": [
        "\"Hello\"*10"
      ],
      "execution_count": null,
      "outputs": []
    },
    {
      "cell_type": "markdown",
      "metadata": {
        "id": "iga3DJrgSGCS"
      },
      "source": [
        "# Tuples"
      ]
    },
    {
      "cell_type": "markdown",
      "metadata": {
        "id": "Hg53imtkSKYE"
      },
      "source": [
        "\"A tuple is a sequence of immutable Python objects. Tuples are sequences, just like lists. The differences between tuples and lists are, the tuples cannot be changed unlike lists and tuples use parentheses, whereas lists use square brackets.\"\n",
        "\n",
        "https://www.tutorialspoint.com/python/python_tuples.htm\n"
      ]
    },
    {
      "cell_type": "code",
      "metadata": {
        "id": "IK_lLvwvSJv2"
      },
      "source": [
        "tup1 = ('physics', 'chemistry', 1997, 2000)\n",
        "tup2 = (1, 2, 3, 4, 5 )\n",
        "tup3 = \"a\", \"b\", \"c\", \"d\""
      ],
      "execution_count": null,
      "outputs": []
    },
    {
      "cell_type": "code",
      "metadata": {
        "id": "BVURxGfTSTAx"
      },
      "source": [
        "print(tup3[1])"
      ],
      "execution_count": null,
      "outputs": []
    },
    {
      "cell_type": "code",
      "metadata": {
        "id": "aEWLxDbfSYxJ"
      },
      "source": [
        "tup3[2] = \"V\""
      ],
      "execution_count": null,
      "outputs": []
    },
    {
      "cell_type": "markdown",
      "metadata": {
        "id": "Ftee2pBZs2pg"
      },
      "source": [
        "# Lists"
      ]
    },
    {
      "cell_type": "code",
      "metadata": {
        "id": "JGfNQ26rs3wk"
      },
      "source": [
        "[1,2,3,4]"
      ],
      "execution_count": null,
      "outputs": []
    },
    {
      "cell_type": "code",
      "metadata": {
        "id": "3mGw7vcis84N"
      },
      "source": [
        "type([1,2,3,4])"
      ],
      "execution_count": null,
      "outputs": []
    },
    {
      "cell_type": "code",
      "metadata": {
        "id": "mmoBwKiltBUZ"
      },
      "source": [
        "[1,2,3] + [3,2,4]"
      ],
      "execution_count": null,
      "outputs": []
    },
    {
      "cell_type": "code",
      "metadata": {
        "id": "lVBymWZ9tFMz"
      },
      "source": [
        "x = [[1,2,3],[4,5,6],[7,8,9]]"
      ],
      "execution_count": null,
      "outputs": []
    },
    {
      "cell_type": "code",
      "metadata": {
        "id": "Rhaev8PotU3f"
      },
      "source": [
        "x[1]"
      ],
      "execution_count": null,
      "outputs": []
    },
    {
      "cell_type": "code",
      "metadata": {
        "id": "2XK4XDKqtLxb"
      },
      "source": [
        "x[2][1]"
      ],
      "execution_count": null,
      "outputs": []
    },
    {
      "cell_type": "code",
      "metadata": {
        "id": "huZto1S2TCp2"
      },
      "source": [
        "x[-1]"
      ],
      "execution_count": null,
      "outputs": []
    },
    {
      "cell_type": "code",
      "metadata": {
        "id": "qKxjXV_RTDXg"
      },
      "source": [
        "x[-2]"
      ],
      "execution_count": null,
      "outputs": []
    },
    {
      "cell_type": "code",
      "metadata": {
        "id": "_TeNobfdRf4M"
      },
      "source": [
        "x = [1,2,3]\n",
        "y = x \n",
        "y[-1] = 10\n",
        "print(x)"
      ],
      "execution_count": null,
      "outputs": []
    },
    {
      "cell_type": "markdown",
      "metadata": {
        "id": "L_oL375nSDpB"
      },
      "source": [
        "# Sets"
      ]
    },
    {
      "cell_type": "code",
      "metadata": {
        "id": "NZabRlmSR2P4"
      },
      "source": [
        "{1,2,3,3,4}"
      ],
      "execution_count": null,
      "outputs": []
    },
    {
      "cell_type": "code",
      "metadata": {
        "id": "ZtARAZGWSHqR"
      },
      "source": [
        "x = set([1,2,3,4,5,5,5,5,5,5])\n",
        "print(x)"
      ],
      "execution_count": null,
      "outputs": []
    },
    {
      "cell_type": "code",
      "metadata": {
        "id": "7MfjTXD0SUXK"
      },
      "source": [
        "y = set([5,6,5,3,9])\n",
        "print(y)"
      ],
      "execution_count": null,
      "outputs": []
    },
    {
      "cell_type": "markdown",
      "metadata": {
        "id": "Z3m6jXxuSYne"
      },
      "source": [
        "Union"
      ]
    },
    {
      "cell_type": "code",
      "metadata": {
        "id": "wuKX6rFmSM1x"
      },
      "source": [
        "x|y"
      ],
      "execution_count": null,
      "outputs": []
    },
    {
      "cell_type": "markdown",
      "metadata": {
        "id": "Wq8jZgp1Si9M"
      },
      "source": [
        "Intersection"
      ]
    },
    {
      "cell_type": "code",
      "metadata": {
        "id": "cd3IlfQ7Sgis"
      },
      "source": [
        "x&y"
      ],
      "execution_count": null,
      "outputs": []
    },
    {
      "cell_type": "markdown",
      "metadata": {
        "id": "Q8bqpY4XSoFy"
      },
      "source": [
        "difference"
      ]
    },
    {
      "cell_type": "code",
      "metadata": {
        "id": "3wddTw2tSpzT"
      },
      "source": [
        "x-y"
      ],
      "execution_count": null,
      "outputs": []
    },
    {
      "cell_type": "markdown",
      "metadata": {
        "id": "ystugW_MSZvo"
      },
      "source": [
        "xor"
      ]
    },
    {
      "cell_type": "code",
      "metadata": {
        "id": "DlHCu5hTScDU"
      },
      "source": [
        "x^y"
      ],
      "execution_count": null,
      "outputs": []
    },
    {
      "cell_type": "markdown",
      "metadata": {
        "id": "6HR2a5S_L0FO"
      },
      "source": [
        "# Dictionaries"
      ]
    },
    {
      "cell_type": "code",
      "metadata": {
        "id": "QMYB7Pd1L2JH"
      },
      "source": [
        "info = {'name':'Ali', 'age':20,'occupation':'Student', 'alive?':True}"
      ],
      "execution_count": null,
      "outputs": []
    },
    {
      "cell_type": "code",
      "metadata": {
        "id": "RuWmuVlGL8kJ"
      },
      "source": [
        "info['name']"
      ],
      "execution_count": null,
      "outputs": []
    },
    {
      "cell_type": "code",
      "metadata": {
        "id": "CnYKWWI-Mfip"
      },
      "source": [
        "info.keys()"
      ],
      "execution_count": null,
      "outputs": []
    },
    {
      "cell_type": "code",
      "metadata": {
        "id": "GVAYJovkMjp7"
      },
      "source": [
        "info.values()"
      ],
      "execution_count": null,
      "outputs": []
    },
    {
      "cell_type": "code",
      "metadata": {
        "id": "XuJjwmFMMmVH"
      },
      "source": [
        "'age' in info"
      ],
      "execution_count": null,
      "outputs": []
    },
    {
      "cell_type": "code",
      "metadata": {
        "id": "71qV1Rv2NpYz"
      },
      "source": [
        "20 in info.values()"
      ],
      "execution_count": null,
      "outputs": []
    },
    {
      "cell_type": "code",
      "metadata": {
        "id": "HRIGWOC3Nyvt"
      },
      "source": [
        "del info['Name']\n",
        "print(info)"
      ],
      "execution_count": null,
      "outputs": []
    },
    {
      "cell_type": "code",
      "metadata": {
        "id": "WN5ZWgFLOUJz"
      },
      "source": [
        "info[\"hair_color\"] = \"black\"\n",
        "print(info)"
      ],
      "execution_count": null,
      "outputs": []
    },
    {
      "cell_type": "markdown",
      "metadata": {
        "id": "HHSe9soCgsbP"
      },
      "source": [
        "# Functions"
      ]
    },
    {
      "cell_type": "markdown",
      "metadata": {
        "id": "uBEa9VakguKY"
      },
      "source": [
        "Here is an example that takes one variable"
      ]
    },
    {
      "cell_type": "code",
      "metadata": {
        "id": "s6VqW_EUg0nU"
      },
      "source": [
        "abs(10)"
      ],
      "execution_count": null,
      "outputs": []
    },
    {
      "cell_type": "markdown",
      "metadata": {
        "id": "fPV47kTqg43K"
      },
      "source": [
        "Multiple variables"
      ]
    },
    {
      "cell_type": "code",
      "metadata": {
        "id": "3fCnolryg9iJ"
      },
      "source": [
        "max(10,5,-1,2)"
      ],
      "execution_count": null,
      "outputs": []
    },
    {
      "cell_type": "markdown",
      "metadata": {
        "id": "jf3hmlilhFl-"
      },
      "source": [
        "To read more about a function, use the help function\n"
      ]
    },
    {
      "cell_type": "code",
      "metadata": {
        "id": "HUxSyGAmhJt5"
      },
      "source": [
        "help(max)"
      ],
      "execution_count": null,
      "outputs": []
    },
    {
      "cell_type": "markdown",
      "metadata": {
        "id": "LVjRF6IhQPcH"
      },
      "source": [
        "write your own function"
      ]
    },
    {
      "cell_type": "code",
      "metadata": {
        "id": "tsm8_NviQQ1v"
      },
      "source": [
        "def add_one(x):\n",
        "  x+=1 \n",
        "  return x"
      ],
      "execution_count": null,
      "outputs": []
    },
    {
      "cell_type": "code",
      "metadata": {
        "id": "v5ZHJTFGQUZS"
      },
      "source": [
        "add_one(1)"
      ],
      "execution_count": null,
      "outputs": []
    },
    {
      "cell_type": "code",
      "metadata": {
        "id": "zBI2OkZqQqXX"
      },
      "source": [
        "x = 1 \n",
        "add_one(x)\n",
        "print(x)"
      ],
      "execution_count": null,
      "outputs": []
    },
    {
      "cell_type": "code",
      "metadata": {
        "id": "da5hSo2mQbel"
      },
      "source": [
        "def find_remainder(x,y): \n",
        "  return x%y "
      ],
      "execution_count": null,
      "outputs": []
    },
    {
      "cell_type": "code",
      "metadata": {
        "id": "CZX1KuoBQyAa"
      },
      "source": [
        "find_remainder(10,3)"
      ],
      "execution_count": null,
      "outputs": []
    },
    {
      "cell_type": "code",
      "metadata": {
        "id": "zX-6tXIuQ1Hz"
      },
      "source": [
        "def divide(x,y): \n",
        "  return x//y, x%y"
      ],
      "execution_count": null,
      "outputs": []
    },
    {
      "cell_type": "code",
      "metadata": {
        "id": "22arAaiuQ6RP"
      },
      "source": [
        "divide(10,3)"
      ],
      "execution_count": null,
      "outputs": []
    },
    {
      "cell_type": "code",
      "metadata": {
        "id": "J0nUurlfRAlp"
      },
      "source": [
        "results, remainder = divide(10,3)\n",
        "print(results)\n",
        "print(remainder)"
      ],
      "execution_count": null,
      "outputs": []
    },
    {
      "cell_type": "markdown",
      "metadata": {
        "id": "q4tcFrpzsW5e"
      },
      "source": [
        "# Packages and Modules"
      ]
    },
    {
      "cell_type": "markdown",
      "metadata": {
        "id": "rBgDhVkYtdN3"
      },
      "source": [
        "So far, we have used the built-in functions in python. We can also import external functions from python packages. packages have methods and functions of their own. "
      ]
    },
    {
      "cell_type": "markdown",
      "metadata": {
        "id": "rc2-4l8RtiGo"
      },
      "source": [
        "## Importing a library in Python"
      ]
    },
    {
      "cell_type": "markdown",
      "metadata": {
        "id": "zaqCl5-xtuPg"
      },
      "source": [
        "Simple import of the famous NumPy \n",
        "https://numpy.org/"
      ]
    },
    {
      "cell_type": "code",
      "metadata": {
        "id": "zARoJYr_sZEy"
      },
      "source": [
        "import numpy "
      ],
      "execution_count": null,
      "outputs": []
    },
    {
      "cell_type": "code",
      "metadata": {
        "id": "uetrQ6yctoj0"
      },
      "source": [
        "numpy "
      ],
      "execution_count": null,
      "outputs": []
    },
    {
      "cell_type": "markdown",
      "metadata": {
        "id": "3raZ8z0bmYl-"
      },
      "source": [
        "installing new libraries"
      ]
    },
    {
      "cell_type": "code",
      "metadata": {
        "id": "KxsqHrBrmXCY"
      },
      "source": [
        "!pip install dippykit"
      ],
      "execution_count": null,
      "outputs": []
    },
    {
      "cell_type": "markdown",
      "metadata": {
        "id": "Xj2hzFU8ulWC"
      },
      "source": [
        "Numpy has many methods and functions. You can access them like this: "
      ]
    },
    {
      "cell_type": "code",
      "metadata": {
        "id": "IrgIG0u-ukVd"
      },
      "source": [
        "numpy.add(1,2)"
      ],
      "execution_count": null,
      "outputs": []
    },
    {
      "cell_type": "code",
      "metadata": {
        "id": "cq-mpevkvDsc"
      },
      "source": [
        "add(1,2)"
      ],
      "execution_count": null,
      "outputs": []
    },
    {
      "cell_type": "markdown",
      "metadata": {
        "id": "kPsf-Ub9uzEF"
      },
      "source": [
        "If you want to import a single method or function in Python, use this"
      ]
    },
    {
      "cell_type": "code",
      "metadata": {
        "id": "2rwVA4Zouh5Z"
      },
      "source": [
        "from numpy import add "
      ],
      "execution_count": null,
      "outputs": []
    },
    {
      "cell_type": "code",
      "metadata": {
        "id": "vKv3LJBCu_6k"
      },
      "source": [
        "add(1,3)"
      ],
      "execution_count": null,
      "outputs": []
    },
    {
      "cell_type": "markdown",
      "metadata": {
        "id": "pf1ZlhR6vFbq"
      },
      "source": [
        "If you want to import all modules in numpy, use *"
      ]
    },
    {
      "cell_type": "code",
      "metadata": {
        "id": "Rr66g_TyvT8C"
      },
      "source": [
        "sin(2)"
      ],
      "execution_count": null,
      "outputs": []
    },
    {
      "cell_type": "code",
      "metadata": {
        "id": "kECV8dxBvI4u"
      },
      "source": [
        "from numpy import *"
      ],
      "execution_count": null,
      "outputs": []
    },
    {
      "cell_type": "code",
      "metadata": {
        "id": "jZ6188AOvLSc"
      },
      "source": [
        "sin(10)"
      ],
      "execution_count": null,
      "outputs": []
    },
    {
      "cell_type": "markdown",
      "metadata": {
        "id": "xC-ZhUpqvc7g"
      },
      "source": [
        "You can also import a library with a custom name "
      ]
    },
    {
      "cell_type": "code",
      "metadata": {
        "id": "gthSPPmEvcIJ"
      },
      "source": [
        "import numpy as np "
      ],
      "execution_count": null,
      "outputs": []
    },
    {
      "cell_type": "code",
      "metadata": {
        "id": "yUor3qQMvioy"
      },
      "source": [
        "np.random.rand()"
      ],
      "execution_count": null,
      "outputs": []
    },
    {
      "cell_type": "markdown",
      "metadata": {
        "id": "L4KHUJHLvstv"
      },
      "source": [
        "# Arrays"
      ]
    },
    {
      "cell_type": "markdown",
      "metadata": {
        "id": "jvk-NkiqvygC"
      },
      "source": [
        "We will use NumPy to "
      ]
    },
    {
      "cell_type": "code",
      "metadata": {
        "id": "BiYlY6YHvuVl"
      },
      "source": [
        "import numpy as np\n",
        "np.array(10)"
      ],
      "execution_count": null,
      "outputs": []
    },
    {
      "cell_type": "code",
      "metadata": {
        "id": "Kb1FpM3xxsaW"
      },
      "source": [
        "np.array([10,2,4])"
      ],
      "execution_count": null,
      "outputs": []
    },
    {
      "cell_type": "code",
      "metadata": {
        "id": "jGbHPXEVxuuw"
      },
      "source": [
        "x = np.array([10,2,4,7], dtype=float)\n",
        "print(x)"
      ],
      "execution_count": null,
      "outputs": []
    },
    {
      "cell_type": "code",
      "metadata": {
        "id": "GmM1t0FP14Jx"
      },
      "source": [
        "x[0]"
      ],
      "execution_count": null,
      "outputs": []
    },
    {
      "cell_type": "code",
      "metadata": {
        "id": "wpOzsi2417Pm"
      },
      "source": [
        "x[3]"
      ],
      "execution_count": null,
      "outputs": []
    },
    {
      "cell_type": "code",
      "metadata": {
        "id": "2U9T5kyT18PD"
      },
      "source": [
        "x[-1]"
      ],
      "execution_count": null,
      "outputs": []
    },
    {
      "cell_type": "code",
      "metadata": {
        "id": "6yzg4Dz12B5y"
      },
      "source": [
        "x[-2]"
      ],
      "execution_count": null,
      "outputs": []
    },
    {
      "cell_type": "code",
      "metadata": {
        "id": "VTqLL4pk2J6D"
      },
      "source": [
        "x[1:3]"
      ],
      "execution_count": null,
      "outputs": []
    },
    {
      "cell_type": "code",
      "metadata": {
        "id": "YnVYWsne2Gv7"
      },
      "source": [
        "x[:3]"
      ],
      "execution_count": null,
      "outputs": []
    },
    {
      "cell_type": "code",
      "metadata": {
        "id": "HRJsickL2bAp"
      },
      "source": [
        "x[2:]"
      ],
      "execution_count": null,
      "outputs": []
    },
    {
      "cell_type": "code",
      "metadata": {
        "id": "mmwBmk1w2fWA"
      },
      "source": [
        "x[1:-1]"
      ],
      "execution_count": null,
      "outputs": []
    },
    {
      "cell_type": "code",
      "metadata": {
        "id": "9_VERCpIx7HA"
      },
      "source": [
        "np.array(['a','b'])"
      ],
      "execution_count": null,
      "outputs": []
    },
    {
      "cell_type": "markdown",
      "metadata": {
        "id": "6fcMaduiwRc-"
      },
      "source": [
        "Array addition works with + sign (unlike with lists)"
      ]
    },
    {
      "cell_type": "code",
      "metadata": {
        "id": "QZ_dmSDFwLeT"
      },
      "source": [
        "np.array([1,2,3]) + np.array([2,3,4])"
      ],
      "execution_count": null,
      "outputs": []
    },
    {
      "cell_type": "markdown",
      "metadata": {
        "id": "mEMx4nGTwcF0"
      },
      "source": [
        "Vectors"
      ]
    },
    {
      "cell_type": "code",
      "metadata": {
        "id": "1J4TDbwzwQUC"
      },
      "source": [
        "x = np.array([1,2])\n",
        "y = np.array([[7],[3]])\n",
        "print(x)\n",
        "print(y)\n",
        "print(x.shape)\n",
        "print(y.shape)"
      ],
      "execution_count": null,
      "outputs": []
    },
    {
      "cell_type": "code",
      "metadata": {
        "id": "6s1HpaB2xka0"
      },
      "source": [
        "8*x"
      ],
      "execution_count": null,
      "outputs": []
    },
    {
      "cell_type": "code",
      "metadata": {
        "id": "zMoTyFRPyLFd"
      },
      "source": [
        "print(x)"
      ],
      "execution_count": null,
      "outputs": []
    },
    {
      "cell_type": "code",
      "metadata": {
        "id": "ezN1Les2yNEr"
      },
      "source": [
        "new_x = 2*x\n",
        "print(new_x)"
      ],
      "execution_count": null,
      "outputs": []
    },
    {
      "cell_type": "markdown",
      "metadata": {
        "id": "tgfZmfaSw-bN"
      },
      "source": [
        "What would happen here? "
      ]
    },
    {
      "cell_type": "code",
      "metadata": {
        "id": "nTnHWTVgwxHm"
      },
      "source": [
        "x*y"
      ],
      "execution_count": null,
      "outputs": []
    },
    {
      "cell_type": "code",
      "metadata": {
        "id": "rEVfhMkHxCr3"
      },
      "source": [
        "y*x"
      ],
      "execution_count": null,
      "outputs": []
    },
    {
      "cell_type": "markdown",
      "metadata": {
        "id": "TDNJGR4lxLXh"
      },
      "source": [
        "Vector/Matrix multiplication is done using @"
      ]
    },
    {
      "cell_type": "code",
      "metadata": {
        "id": "h1RAg_OPxKgV"
      },
      "source": [
        "x@y "
      ],
      "execution_count": null,
      "outputs": []
    },
    {
      "cell_type": "code",
      "metadata": {
        "id": "XBJtwKJNxXkc"
      },
      "source": [
        "y@x"
      ],
      "execution_count": null,
      "outputs": []
    },
    {
      "cell_type": "markdown",
      "metadata": {
        "id": "f-H-1211xSkM"
      },
      "source": [
        "or using matmul"
      ]
    },
    {
      "cell_type": "code",
      "metadata": {
        "id": "5HWvVwjqxUz3"
      },
      "source": [
        "np.matmul(x,y)"
      ],
      "execution_count": null,
      "outputs": []
    },
    {
      "cell_type": "markdown",
      "metadata": {
        "id": "fJgF37BoyiyW"
      },
      "source": [
        "Matrices are constructed the same way as vectors"
      ]
    },
    {
      "cell_type": "code",
      "metadata": {
        "id": "jCXUVAQcyhyS"
      },
      "source": [
        "a_matrix = np.array([[1,2],[2,3],[5,6]])\n",
        "b_matrix = np.array([[2,3],[4,3]])\n",
        "\n",
        "print(a_matrix)\n",
        "print()\n",
        "print(b_matrix)"
      ],
      "execution_count": null,
      "outputs": []
    },
    {
      "cell_type": "code",
      "metadata": {
        "id": "znCYT0An1a7H"
      },
      "source": [
        "a_matrix[1,1]"
      ],
      "execution_count": null,
      "outputs": []
    },
    {
      "cell_type": "code",
      "metadata": {
        "id": "oVx3Pn571f_U"
      },
      "source": [
        "a_matrix[0]"
      ],
      "execution_count": null,
      "outputs": []
    },
    {
      "cell_type": "code",
      "metadata": {
        "id": "taG8theX1how"
      },
      "source": [
        "a_matrix[0][1]"
      ],
      "execution_count": null,
      "outputs": []
    },
    {
      "cell_type": "code",
      "metadata": {
        "id": "hu5rvlpo1kcB"
      },
      "source": [
        "a_matrix[:,1]"
      ],
      "execution_count": null,
      "outputs": []
    },
    {
      "cell_type": "markdown",
      "metadata": {
        "id": "0QJYiVcsz5mE"
      },
      "source": [
        "Transpose a matrix with .T or with .transpose"
      ]
    },
    {
      "cell_type": "code",
      "metadata": {
        "id": "Thk2gZHoz7jq"
      },
      "source": [
        "print(a_matrix.T)"
      ],
      "execution_count": null,
      "outputs": []
    },
    {
      "cell_type": "code",
      "metadata": {
        "id": "qr6-Vya9z-jR"
      },
      "source": [
        "a_matrix"
      ],
      "execution_count": null,
      "outputs": []
    },
    {
      "cell_type": "code",
      "metadata": {
        "id": "-pfcvZLVyyy7"
      },
      "source": [
        "a_matrix*b_matrix"
      ],
      "execution_count": null,
      "outputs": []
    },
    {
      "cell_type": "code",
      "metadata": {
        "id": "w23FzoN1zM8j"
      },
      "source": [
        "print(a_matrix.shape)\n",
        "print()\n",
        "print(b_matrix.shape)"
      ],
      "execution_count": null,
      "outputs": []
    },
    {
      "cell_type": "code",
      "metadata": {
        "id": "dTUPRefEy3ON"
      },
      "source": [
        "a_matrix@b_matrix"
      ],
      "execution_count": null,
      "outputs": []
    },
    {
      "cell_type": "code",
      "metadata": {
        "id": "gLn00Hlq0lf-"
      },
      "source": [
        "np.sum(a_matrix)"
      ],
      "execution_count": null,
      "outputs": []
    },
    {
      "cell_type": "code",
      "metadata": {
        "id": "4aaW0bBR0vom"
      },
      "source": [
        "np.sum(a_matrix, axis=0)"
      ],
      "execution_count": null,
      "outputs": []
    },
    {
      "cell_type": "code",
      "metadata": {
        "id": "FZVrnLb602eU"
      },
      "source": [
        "np.sum(a_matrix,axis=1)"
      ],
      "execution_count": null,
      "outputs": []
    },
    {
      "cell_type": "code",
      "metadata": {
        "id": "7-m3_uwc2wm1"
      },
      "source": [
        "np.sum(a_matrix,axis=1, keepdims=True)"
      ],
      "execution_count": null,
      "outputs": []
    },
    {
      "cell_type": "markdown",
      "metadata": {
        "id": "ADEQjxWeS4e3"
      },
      "source": [
        "matrix inversion"
      ]
    },
    {
      "cell_type": "code",
      "metadata": {
        "id": "0Xw4hOi-S5_7"
      },
      "source": [
        "c_matrix = np.array([[2,3],[4,3]])\n",
        "np.linalg.inv(c_matrix)"
      ],
      "execution_count": null,
      "outputs": []
    },
    {
      "cell_type": "code",
      "metadata": {
        "id": "fi8eJbEwTILM"
      },
      "source": [
        "from numpy.linalg import inv\n",
        "inv(c_matrix)"
      ],
      "execution_count": null,
      "outputs": []
    },
    {
      "cell_type": "markdown",
      "metadata": {
        "id": "v0u-qchQTW-9"
      },
      "source": [
        "Let's write a function that takes matrix of any size, and find its inverse if and only if it's square and the inverse exists"
      ]
    },
    {
      "cell_type": "code",
      "metadata": {
        "id": "KxGkdD7oTjGv"
      },
      "source": [
        "def find_inv(x): \n",
        "  if x.shape[0]==x.shape[1] and np.linalg.det(x)!=0: \n",
        "    return np.linalg.inv(x)\n",
        "  else: \n",
        "    print(\"Sorry, the inverse does not exist\")"
      ],
      "execution_count": null,
      "outputs": []
    },
    {
      "cell_type": "code",
      "metadata": {
        "id": "Hx8dxNnwTw5W"
      },
      "source": [
        "c_matrix = np.array([[2,3],[4,3]])\n",
        "find_inv(c_matrix)"
      ],
      "execution_count": null,
      "outputs": []
    },
    {
      "cell_type": "code",
      "metadata": {
        "id": "KYa92JOBT5ZN"
      },
      "source": [
        "c_matrix = np.array([[0,0],[4,3]])\n",
        "find_inv(c_matrix)"
      ],
      "execution_count": null,
      "outputs": []
    },
    {
      "cell_type": "markdown",
      "metadata": {
        "id": "uvnMwLekkZUh"
      },
      "source": [
        "# Plotting"
      ]
    },
    {
      "cell_type": "markdown",
      "metadata": {
        "id": "Ch5JpVXXkauf"
      },
      "source": [
        "We will maily use matplotlib for plotting in python. \n",
        "seaborn is also a great library for plotting (more beautiful plots) "
      ]
    },
    {
      "cell_type": "code",
      "metadata": {
        "id": "XO_ffRY5qQGy"
      },
      "source": [
        "import matplotlib.pyplot as plt \n",
        "import numpy as np \n",
        "\n",
        "help(plt.plot)"
      ],
      "execution_count": null,
      "outputs": []
    },
    {
      "cell_type": "code",
      "metadata": {
        "id": "fvvd_o3xkjUO"
      },
      "source": [
        "t = np.arange(0,3,0.1)\n",
        "x = np.sin(2*np.pi*t)\n",
        "plt.plot(t,x, 'r') \n",
        "plt.xlabel('Time (s)')\n",
        "plt.ylabel('y(t)')\n",
        "plt.title('A plot of sine function'); "
      ],
      "execution_count": null,
      "outputs": []
    },
    {
      "cell_type": "markdown",
      "metadata": {
        "id": "SOyluICdIf43"
      },
      "source": [
        "# References and Resources"
      ]
    },
    {
      "cell_type": "markdown",
      "metadata": {
        "id": "kg3W7dZgIlE7"
      },
      "source": [
        "[1] https://www.amazon.com/Illustrated-Guide-Python-Walkthrough-Illustrations/dp/1977921752\n",
        "\n",
        "[2] https://t.co/0Ft6ulh7FM?amp=1\n",
        "\n",
        "[3] https://www.youtube.com/playlist?list=PLRdABJkXXytC7Oqlw7aKquKJrh1wAgKpA"
      ]
    }
  ]
}