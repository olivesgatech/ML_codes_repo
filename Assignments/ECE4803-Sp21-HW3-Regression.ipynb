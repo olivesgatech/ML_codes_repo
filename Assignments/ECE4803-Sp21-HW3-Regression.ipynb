{
 "cells": [
  {
   "cell_type": "code",
   "execution_count": 1,
   "metadata": {},
   "outputs": [],
   "source": [
    "import numpy as np\n",
    "import matplotlib.pyplot as plt"
   ]
  },
  {
   "cell_type": "code",
   "execution_count": 138,
   "metadata": {},
   "outputs": [
    {
     "name": "stdout",
     "output_type": "stream",
     "text": [
      "MSE on Training Data: 0.000\n",
      "MSE on Test Data: 99036.313\n"
     ]
    }
   ],
   "source": [
    "from sklearn.datasets import load_boston, load_diabetes\n",
    "from sklearn.model_selection import train_test_split\n",
    "\n",
    "# house_prices = load_boston()\n",
    "# X, y = house_prices.data, house_prices.target\n",
    "\n",
    "diabetes = load_diabetes()\n",
    "X, y = diabetes.data, diabetes.target\n",
    "\n",
    "n_train = 10\n",
    "n_test = X.shape[0] - n_train\n",
    "\n",
    "# normalize X\n",
    "#X = (X - np.mean(X, axis=0, keepdims=True)) / np.std(X, axis=0, keepdims=True) \n",
    "\n",
    "# low rank approximation of X\n",
    "# rank = np.linalg.matrix_rank(X)\n",
    "# u, s, vh = np.linalg.svd(X)\n",
    "# X = u[:,:rank].dot(np.diag(s)[:rank,:rank]).dot(vh[:rank,:])\n",
    "\n",
    "X_train, X_test, y_train, y_test = train_test_split(X, y, train_size=n_train, test_size=n_test, random_state=4803)\n",
    "\n",
    "# train theta\n",
    "lambda_ = 0\n",
    "theta = np.linalg.inv(X_train.T.dot(X_train)+lambda_*np.eye(X_train.shape[1])).dot(X_train.T.dot(y_train))\n",
    "\n",
    "# test\n",
    "y_pred = X_test.dot(theta)\n",
    "\n",
    "# evaluate performance\n",
    "print('MSE on Training Data: {:0.3f}'.format(np.sum((X_train.dot(theta) - y_train)**2)/y_train.size))\n",
    "print('MSE on Test Data: {:0.3f}'.format(np.sum((y_pred - y_test)**2)/y_test.size))\n",
    "\n"
   ]
  },
  {
   "cell_type": "code",
   "execution_count": 156,
   "metadata": {},
   "outputs": [
    {
     "name": "stdout",
     "output_type": "stream",
     "text": [
      "MSE on Training Data: 3203.340\n",
      "MSE on Test Data: 3282.631\n"
     ]
    }
   ],
   "source": [
    "from sklearn.datasets import load_diabetes\n",
    "from sklearn.model_selection import train_test_split\n",
    "\n",
    "class MyLeastSquares:\n",
    "    def __init__(self, X_train, y_train):\n",
    "        \"\"\"Function stores feature matrix and corresponding target data.\n",
    "        \n",
    "        Parameters:\n",
    "        -----------\n",
    "        X_train: array_like, shape(N,D)\n",
    "            ndarray containing N training examples, each with D feature values.\n",
    "            \n",
    "        y_train: array_like, shape(N,1)\n",
    "            ndarray containing target values for each of N examples in X_train.\"\"\"\n",
    "        \n",
    "        self.X_train = X_train\n",
    "        self.y_train = y_train\n",
    "        \n",
    "    def fit(self):\n",
    "        \"\"\"Function computes the weight vector of shape (D+1, 1) for regression\"\"\"\n",
    "        # append ones for bias\n",
    "        X = np.concatenate((self.X_train, np.ones((self.X_train.shape[0],1))), axis=1)\n",
    "        self.theta = np.linalg.inv(X.T.dot(X)).dot(X.T.dot(self.y_train))\n",
    "     \n",
    "    def predict(self, X_test):\n",
    "        \"\"\"Function predicts targets for given X_test.\n",
    "        \n",
    "        Parameters:\n",
    "        -----------\n",
    "        X_test: array_like, shape(N,D)\n",
    "            ndarray containing N test examples with D features each.\n",
    "            \n",
    "        Returns: array_like, shape(N,1).\n",
    "            ndarray containing predicted targets of shape (N,1).\n",
    "        \"\"\"\n",
    "        \n",
    "        X = np.concatenate((X_test, np.ones((X_test.shape[0],1))), axis=1)\n",
    "        y_pred = X.dot(self.theta)\n",
    "        \n",
    "        return y_pred\n",
    "    \n",
    "# load dataset\n",
    "diabetes = load_diabetes()\n",
    "X, y = diabetes.data, diabetes.target\n",
    "\n",
    "# train-test split\n",
    "n_train = 40\n",
    "n_test = X.shape[0] - n_train\n",
    "\n",
    "X_train, X_test, y_train, y_test = train_test_split(X, y, train_size=n_train, test_size=n_test, random_state=4803)\n",
    "\n",
    "# train theta\n",
    "LS = MyLeastSquares(X_train, y_train)\n",
    "LS.fit()\n",
    "\n",
    "# test\n",
    "y_pred = LS.predict(X_test)\n",
    "\n",
    "# evaluate performance\n",
    "print('MSE on Training Data: {:0.3f}'.format(np.sum((LS.predict(X_train) - y_train)**2)/y_train.size))\n",
    "print('MSE on Test Data: {:0.3f}'.format(np.sum((y_pred - y_test)**2)/y_pred.size))\n",
    "\n"
   ]
  },
  {
   "cell_type": "code",
   "execution_count": 168,
   "metadata": {},
   "outputs": [
    {
     "name": "stdout",
     "output_type": "stream",
     "text": [
      "MSE on Training Data: 7199.569\n",
      "MSE on Test Data: 1763911382873375450975169673166848.000\n"
     ]
    }
   ],
   "source": [
    "from sklearn.datasets import load_boston\n",
    "from sklearn.model_selection import train_test_split\n",
    "\n",
    "def rank_truncate(X, rank):\n",
    "    \"\"\"Function perfroms rank truncation for given feature matrix X.\n",
    "    \n",
    "    Parameters:\n",
    "    -----------\n",
    "    X: array_like, shape(N,D).\n",
    "        ndarray containing N training examples with D features each.\n",
    "    \n",
    "    rank: int\n",
    "        integer specifying the number of singular values to truncate with.\n",
    "        \n",
    "    Returns:\n",
    "    --------\n",
    "    X_trunc: array_like, shape(N,D)\n",
    "        ndarray containing rank-approximation of X.\n",
    "    \"\"\"\n",
    "    \n",
    "    u, s, vh = np.linalg.svd(X)\n",
    "    X_trunc = u[:,:rank].dot(np.diag(s)[:rank,:rank]).dot(vh[:rank,:])\n",
    "    \n",
    "    return X_trunc\n",
    "    \n",
    "    \n",
    "# load dataset\n",
    "house_prices = load_boston()\n",
    "X, y = house_prices.data, house_prices.target\n",
    "\n",
    "# train-test split\n",
    "n_train = 13\n",
    "n_test = X.shape[0] - n_train\n",
    "\n",
    "# perform rank truncation\n",
    "rank = np.linalg.matrix_rank(X)\n",
    "X = rank_truncate(X, rank)\n",
    "\n",
    "X_train, X_test, y_train, y_test = train_test_split(X, y, train_size=n_train, test_size=n_test, random_state=4803)\n",
    "\n",
    "# train theta\n",
    "LS = MyLeastSquares(X_train, y_train)\n",
    "LS.fit()\n",
    "\n",
    "# test\n",
    "y_pred = LS.predict(X_test)\n",
    "\n",
    "# evaluate performance\n",
    "print('MSE on Training Data: {:0.3f}'.format(np.sum((LS.predict(X_train) - y_train)**2)/y_train.size))\n",
    "print('MSE on Test Data: {:0.3f}'.format(np.sum((y_pred - y_test)**2)/y_pred.size))\n",
    "\n"
   ]
  }
 ],
 "metadata": {
  "kernelspec": {
   "display_name": "Python 3",
   "language": "python",
   "name": "python3"
  },
  "language_info": {
   "codemirror_mode": {
    "name": "ipython",
    "version": 3
   },
   "file_extension": ".py",
   "mimetype": "text/x-python",
   "name": "python",
   "nbconvert_exporter": "python",
   "pygments_lexer": "ipython3",
   "version": "3.7.4"
  }
 },
 "nbformat": 4,
 "nbformat_minor": 4
}
