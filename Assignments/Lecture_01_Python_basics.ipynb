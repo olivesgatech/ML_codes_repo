{
 "cells": [
  {
   "cell_type": "markdown",
   "metadata": {},
   "source": [
    "# ECE - 4803: Fundamentamentals of Machine Learning\n",
    "## Homework Assignment # 1\n",
    "\n",
    "\n",
    "\n"
   ]
  },
  {
   "cell_type": "markdown",
   "metadata": {},
   "source": [
    "**Please read the following instructions carefully.**\n",
    "- All of the homework assignment is to be completed on this ipython notebook. It is designed to be used with Google Colab, but you may use other tools (e.g., Jupyter Lab) as well.\n",
    "- Please ensure that you execute all cells in a way so their output is printed beneath the corresponding cell. \n",
    "- Print a PDF copy of the notebook with all its outputs printed and submit that on Canvas\n",
    "- Make sure you delete any scratch cells before you export this document as a PDF.\n",
    "- Rename the PDF according to the format: *LastName_FirstName_ECE_4803_assignment_#.pdf*\n",
    "- It is encouraged for you to discuss homework problems amongst each other, but any copying is strictly prohibited and will be subject to Georgia Tech Honour Code. "
   ]
  },
  {
   "cell_type": "markdown",
   "metadata": {},
   "source": [
    "## Assignment Objectives:\n",
    "This homework assignment is designed to bring you up to speed with Python, its data structures, standard libraries, and using those libraries. In addition, it also aims to familiarize you with writing various kinds of content in text cells, including standard text and mathematical expressions with LaTeX.\n"
   ]
  },
  {
   "cell_type": "markdown",
   "metadata": {},
   "source": [
    "### Question 1: Markdown Basics\n",
    "Markdown is a text-to-HTML conversion tool for web writers. Markdown allows you to write using an easy-to-read, easy-to-write plain text format, then convert it to structurally valid XHTML (or HTML). Jupyter notebooks use Markdown cells for inserting any content that is _not_ code. You have seen already how we can create lists with Markdown. For the first exercise, we are going to have you create a blockquote containing a list that has in turn additional sublists, like shown in the image below. Your task is to recreate this within a single markdown cell and execute it. \n",
    "\n",
    "![alt text](https://drive.google.com/uc?export=view&id=13Ozs-73BEFWY3zbnXyFdVqeuGGvrxnkm)\n",
    "\n"
   ]
  },
  {
   "cell_type": "markdown",
   "metadata": {},
   "source": [
    "**Code for generating the Above Image (To be removed from the Assigned Notebook)**\n",
    "\n",
    "This is a list containing several sublists:\n",
    "\n",
    ">- item 1\n",
    "    - subitem 1\n",
    "    - subitem 2\n",
    "    - subitem 3\n",
    "- item 2\n",
    "    1. subitem 1\n",
    "    2. subitem 2\n",
    "    3. subitem 3"
   ]
  },
  {
   "cell_type": "markdown",
   "metadata": {},
   "source": [
    "### Question 2: Creating Codeblocks \n",
    "Markdown enables the creation of code blocks within markdown cells for a better differentiation of regular text from code. Write and execute the markdown syntax required to create the block of python code within a blockquote as depicted in the image below:\n",
    "\n",
    "![alt text](https://drive.google.com/uc?export=view&id=1T4Q90Ua8HhupNxy4gN5yEdR7K0KMnwCz)\n"
   ]
  },
  {
   "cell_type": "markdown",
   "metadata": {},
   "source": [
    "**Student's Copy**\n",
    "\n",
    "#### write code here\n",
    " "
   ]
  },
  {
   "cell_type": "markdown",
   "metadata": {},
   "source": [
    "**Evaluation Copy**\n",
    ">     import numpy as np\n",
    ">     import matplotlib.pyplot as plt\n",
    ">     import sklearn\n",
    ">     \n",
    ">     plt.imshow(img)  # plotting the image\n",
    "   "
   ]
  },
  {
   "cell_type": "markdown",
   "metadata": {},
   "source": [
    "### Question 3: LaTeX in Markdown\n",
    "\n",
    "LaTeX is widely used in academia for the communication and publication of scientific documents in many fields, including mathematics, statistics, computer science, engineering, physics, economics, linguistics, quantitative psychology, philosophy, and political science. It is especially useful when it comes to typesetting mathematical expressions, tables, and matrices. The image below shows various mathematical expressions typed out using LaTeX in markdown. Your task is to recreate them in the cell underneath.\n",
    "\n",
    "![alt text](https://drive.google.com/uc?export=view&id=18GWQaMv7mwslLRqxQ2JyEAXyazSep80y)\n",
    "\n"
   ]
  },
  {
   "cell_type": "markdown",
   "metadata": {},
   "source": [
    "**Evaluation Copy**\n",
    "\n",
    ">$A = \\begin{bmatrix}\n",
    "4&5\\\\\n",
    "3&4\n",
    "\\end{bmatrix},$ and $x=\\begin{bmatrix}2\\\\4\\end{bmatrix}$. Then $y=Ax=\\begin{bmatrix}28\\\\22\\end{bmatrix}$\n",
    "\n",
    "> $\\sigma(x)=\\frac{1}{1+e^{-\\theta^{T}x}}$\n",
    "\n",
    "> $P(\\theta|x) = \\frac{P(x|\\theta)\\times P(\\theta)}{P(x)}$\n",
    " "
   ]
  },
  {
   "cell_type": "markdown",
   "metadata": {},
   "source": [
    "**Student's Copy**\n",
    "\n",
    "#### write code here\n",
    " "
   ]
  },
  {
   "cell_type": "markdown",
   "metadata": {},
   "source": [
    "### Question 4: Introduction to Linear Algebra with Python and Numpy\n",
    "The following set of exercises aims to introduce some basic linear algebra concepts that you can carry out with Python and the standard library numpy. In the first exercise, we are going to see how a matrix product differs from a Hadamard product. You are given the following information:\n",
    "\n",
    "$A = \\begin{bmatrix}0&-1\\\\1&0\\end{bmatrix}$, $v_{1} = \\begin{bmatrix}0\\\\7\\end{bmatrix}$, and $v_{2} = \\begin{bmatrix}2\\\\3\\end{bmatrix}$.\n",
    "\n",
    "You already know by now that you can multiple the matrix $A$ to a vector $v$ to transform $v$ is some way. We could concatenate multiple $v$ vectors in a single matrix so that a single application of $A$ transforms them all, as shown below:\n",
    "\n",
    "$$V=\\begin{bmatrix}\n",
    "|&|\\\\\n",
    "v_{1}&v_{2}\\\\\n",
    "|&|\n",
    "\\end{bmatrix}, \\quad Av = \\begin{bmatrix}\n",
    "|&|\\\\\n",
    "Av_{1}&Av_{2}\\\\\n",
    "|&|\n",
    "\\end{bmatrix}$$\n",
    "\n",
    "Your task below is to:\n",
    "\n",
    "- Create matrix $A$ above using a numpy array\n",
    "- Create the matrix $V$ using numpy\n",
    "- Write code to create the Hadamard product\n",
    "- Write code to create and print the Matrix-vector product, as shown above\n",
    "\n",
    "Use the template code below. Do not change the parts indicated. Execute and print the output. Does it make sense?"
   ]
  },
  {
   "cell_type": "code",
   "execution_count": null,
   "metadata": {
    "collapsed": true,
    "jupyter": {
     "outputs_hidden": true
    }
   },
   "outputs": [],
   "source": [
    "# Student's copy\n",
    "import numpy as np\n",
    "\n",
    "A =  # define A\n",
    "V =  # define V\n",
    "hadamard_AV = # write code to compute the hadamard product of A and V\n",
    "Matrix_AV = # write code to compute the matrix product of A and V \n",
    "\n",
    "\n",
    "#-----------------Don't change anything here------------------------#\n",
    "print('A: \\n',A)\n",
    "print('V: \\n',V)\n",
    "print('\\nHadamard Product of A and V: \\n',hadamard_AV)\n",
    "print('\\nMatrix Product of A and V: \\n', Matrix_AV)"
   ]
  },
  {
   "cell_type": "code",
   "execution_count": 29,
   "metadata": {
    "collapsed": true,
    "jupyter": {
     "outputs_hidden": true
    }
   },
   "outputs": [
    {
     "name": "stdout",
     "output_type": "stream",
     "text": [
      "A: \n",
      " [[ 0 -1]\n",
      " [ 1  0]]\n",
      "V: \n",
      " [[0 2]\n",
      " [7 3]]\n",
      "\n",
      "Hadamard Product of A and V: \n",
      " [[ 0 -2]\n",
      " [ 7  0]]\n",
      "\n",
      "Matrix Product of A and V: \n",
      " [[-7 -3]\n",
      " [ 0  2]]\n"
     ]
    }
   ],
   "source": [
    "# Evaluation copy\n",
    "import numpy as np\n",
    "\n",
    "A = np.array([[0,-1],[1,0]])  # define A\n",
    "V = np.array([[0,2],[7,3]])  # define V\n",
    "\n",
    "print('A: \\n',A)\n",
    "print('V: \\n',V)\n",
    "print('\\nHadamard Product of A and V: \\n',A*V)\n",
    "print('\\nMatrix Product of A and V: \\n', A@V)"
   ]
  },
  {
   "cell_type": "markdown",
   "metadata": {},
   "source": [
    "### Question 5: Vector Norms\n",
    "\n",
    "Having seen some examples of various kinds of matrix vector products, we now move onto the subject of vector norms, which give us an idea of how large in magnitude vectors are. There are several different vector norms. $L$-2 and $L$-1 happen to be two of the most popular, frequently used norms. For a vector $v = [v_{1},v_{2},\\cdots,v_{n}]^{T}$, we have:\n",
    "\n",
    "$||v||_{2} = \\sqrt{v^{2}_{1}+v^{2}_{2}+\\cdots+v^{2}_{n}}$ $\\quad$           ($L$-2 norm of $v$)\n",
    "\n",
    "$||v||_{1} = |v_{1}|+|v_{2}|+\\cdots+|v_{n}|$     $\\quad$                   ($L$-1 norm of $v$)\n",
    "\n",
    "You can use the numpy function `numpy.linalg.norm` to compute vector and matrix norms of different kinds by passing the appropriate arguments as shown below:\n",
    "\n",
    ">     from numpy.linalg import norm\n",
    ">\n",
    ">     l2 = norm(v,2)  # computes l2 norm of v\n",
    ">     l1 = norm(v,1)  # computes l1 norm of v\n",
    "\n",
    "Your tasks are:\n",
    "- Write your own functions to compute the l2 and l1 norms respectively. Complete the function definitions given below by using the norm definitions above.\n",
    "- Compare your answers on any vector of your own to the ones obtained by numpy's norm function\n",
    "- Compare the l1 and l2 norms of any 2-element vector before and after multiplication by the matrix $A$ we defined previously. They should turn out to be the same. Why do you think that is the case? (**_Hint_**: Think about what is special about A.) \n"
   ]
  },
  {
   "cell_type": "code",
   "execution_count": null,
   "metadata": {
    "collapsed": true,
    "jupyter": {
     "outputs_hidden": true
    }
   },
   "outputs": [],
   "source": [
    "# student copy\n",
    "\n",
    "from numpy.linalg import norm\n",
    "import numpy as np\n",
    "\n",
    "def l2(v):\n",
    "    '''Function computes l2 norm for given vector v'''\n",
    "    \n",
    "    l2_norm =  # write code here.\n",
    "    \n",
    "    return l2_norm\n",
    "\n",
    "def l1(v):\n",
    "    '''Function computes l1 norm for given vector v'''\n",
    "    \n",
    "    l1_norm =  # write code here.\n",
    "    \n",
    "    return l1_norm\n",
    "\n",
    "v = # define a vector here\n",
    "\n",
    "\n",
    "#----------------------------------Don't change this!--------------------------------------#\n",
    "print(\"L2 norm with \\'norm\\': %.4f\" % norm(v,2),' | L2 norm with function: %.4f' % l2(v))\n",
    "print('L1 norm with \\'norm\\': %.3f' %norm(v,1),' | L2 norm with function: %.3f'%l1(v))"
   ]
  },
  {
   "cell_type": "code",
   "execution_count": 16,
   "metadata": {
    "collapsed": true,
    "jupyter": {
     "outputs_hidden": true
    }
   },
   "outputs": [
    {
     "name": "stdout",
     "output_type": "stream",
     "text": [
      "L2 norm with 'norm': 1.4142  | L2 norm with function: 1.4142\n",
      "L1 norm with 'norm': 2.000  | L2 norm with function: 2.000\n"
     ]
    }
   ],
   "source": [
    "# evaluatin copy\n",
    "from numpy.linalg import norm\n",
    "import numpy as np\n",
    "\n",
    "def l2(v):\n",
    "    '''Function computes l2 norm for given vector v'''\n",
    "    \n",
    "    return np.sqrt((v**2).sum())\n",
    "\n",
    "def l1(v):\n",
    "    '''Function computes l1 norm for given vector v'''\n",
    "    \n",
    "    return np.abs(v).sum()\n",
    "\n",
    "v = np.array([1,1])\n",
    "\n",
    "print(\"L2 norm with \\'norm\\': %.4f\" % norm(v,2),' | L2 norm with function: %.4f' % l2(v))\n",
    "print('L1 norm with \\'norm\\': %.3f' %norm(v,1),' | L2 norm with function: %.3f'%l1(v))\n"
   ]
  }
 ],
 "metadata": {
  "accelerator": "GPU",
  "colab": {
   "collapsed_sections": [],
   "name": "Lecture 01 - Python_basics.ipynb",
   "provenance": [],
   "toc_visible": true
  },
  "kernelspec": {
   "display_name": "Python 3",
   "language": "python",
   "name": "python3"
  },
  "language_info": {
   "codemirror_mode": {
    "name": "ipython",
    "version": 3
   },
   "file_extension": ".py",
   "mimetype": "text/x-python",
   "name": "python",
   "nbconvert_exporter": "python",
   "pygments_lexer": "ipython3",
   "version": "3.7.4"
  }
 },
 "nbformat": 4,
 "nbformat_minor": 4
}
