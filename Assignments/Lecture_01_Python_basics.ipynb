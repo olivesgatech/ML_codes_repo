{
 "cells": [
  {
   "cell_type": "markdown",
   "metadata": {},
   "source": [
    "# ECE - 4803: Fundamentamentals of Machine Learning\n",
    "## Homework Assignment # 1\n",
    "\n",
    "\n",
    "\n"
   ]
  },
  {
   "cell_type": "markdown",
   "metadata": {},
   "source": [
    "**Please read the following instructions carefully.**\n",
    "- All of the homework assignment is to be completed on this ipython notebook. It is designed to be used with Google Colab, but you may use other tools (e.g., Jupyter Lab) as well.\n",
    "- Please ensure that you execute all cells in a way so their output is printed beneath the corresponding cell. \n",
    "- Print a PDF copy of the notebook with all its outputs printed and submit that on Canvas\n",
    "- Make sure you delete any scratch cells before you export this document as a PDF.\n",
    "- Rename the PDF according to the format: *LastName_FirstName_ECE_4803_assignment_#.pdf*\n",
    "- It is encouraged for you to discuss homework problems amongst each other, but any copying is strictly prohibited and will be subject to Georgia Tech Honour Code. "
   ]
  },
  {
   "cell_type": "markdown",
   "metadata": {},
   "source": [
    "## Assignment Objectives:\n",
    "This homework assignment is designed to bring you up to speed with Python, its data structures, standard libraries, and using those libraries. In addition, it also aims to familiarize you with writing various kinds of content in text cells, including standard text and mathematical expressions with LaTeX.\n"
   ]
  },
  {
   "cell_type": "markdown",
   "metadata": {},
   "source": [
    "### Question 1: Markdown Basics\n",
    "Markdown is a text-to-HTML conversion tool for web writers. Markdown allows you to write using an easy-to-read, easy-to-write plain text format, then convert it to structurally valid XHTML (or HTML). Jupyter notebooks use Markdown cells for inserting any content that is _not_ code. You have seen already how we can create lists with Markdown. For the first exercise, we are going to have you create a blockquote containing a list that has in turn additional sublists, like shown in the image below. Your task is to recreate this within a single markdown cell and execute it. \n",
    "\n",
    "![alt text](https://drive.google.com/uc?export=view&id=13Ozs-73BEFWY3zbnXyFdVqeuGGvrxnkm)\n",
    "\n"
   ]
  },
  {
   "cell_type": "markdown",
   "metadata": {},
   "source": [
    "**Code for generating the Above Image (To be removed from the Assigned Notebook)**\n",
    "\n",
    "This is a list containing several sublists:\n",
    "\n",
    ">- item 1\n",
    "    - subitem 1\n",
    "    - subitem 2\n",
    "    - subitem 3\n",
    "- item 2\n",
    "    1. subitem 1\n",
    "    2. subitem 2\n",
    "    3. subitem 3"
   ]
  },
  {
   "cell_type": "markdown",
   "metadata": {},
   "source": [
    "### Question 2: Creating Codeblocks \n",
    "Markdown enables the creation of code blocks within markdown cells for a better differentiation of regular text from code. Write and execute the markdown syntax required to create the block of python code within a blockquote as depicted in the image below:\n",
    "\n",
    "![alt text](https://drive.google.com/uc?export=view&id=1T4Q90Ua8HhupNxy4gN5yEdR7K0KMnwCz)\n"
   ]
  },
  {
   "cell_type": "markdown",
   "metadata": {},
   "source": [
    "**Student's Copy**\n",
    "\n",
    "#### write code here\n",
    " "
   ]
  },
  {
   "cell_type": "markdown",
   "metadata": {},
   "source": [
    "**Evaluation Copy**\n",
    ">     import numpy as np\n",
    ">     import matplotlib.pyplot as plt\n",
    ">     import sklearn\n",
    ">     \n",
    ">     plt.imshow(img)  # plotting the image\n",
    "   "
   ]
  },
  {
   "cell_type": "markdown",
   "metadata": {},
   "source": [
    "### Question 3: LaTeX in Markdown\n",
    "\n",
    "LaTeX is widely used in academia for the communication and publication of scientific documents in many fields, including mathematics, statistics, computer science, engineering, physics, economics, linguistics, quantitative psychology, philosophy, and political science. It is especially useful when it comes to typesetting mathematical expressions, tables, and matrices. The image below shows various mathematical expressions typed out using LaTeX in markdown. Your task is to recreate them in the cell underneath.\n",
    "\n",
    "![alt text](https://drive.google.com/uc?export=view&id=18GWQaMv7mwslLRqxQ2JyEAXyazSep80y)\n",
    "\n"
   ]
  },
  {
   "cell_type": "markdown",
   "metadata": {},
   "source": [
    "**Evaluation Copy**\n",
    "\n",
    ">$A = \\begin{bmatrix}\n",
    "4&5\\\\\n",
    "3&4\n",
    "\\end{bmatrix},$ and $x=\\begin{bmatrix}2\\\\4\\end{bmatrix}$. Then $y=Ax=\\begin{bmatrix}28\\\\22\\end{bmatrix}$\n",
    "\n",
    "> $\\sigma(x)=\\frac{1}{1+e^{-\\theta^{T}x}}$\n",
    "\n",
    "> $P(\\theta|x) = \\frac{P(x|\\theta)\\times P(\\theta)}{P(x)}$\n",
    " "
   ]
  },
  {
   "cell_type": "markdown",
   "metadata": {},
   "source": [
    "**Student's Copy**\n",
    "\n",
    "#### write code here\n",
    " "
   ]
  },
  {
   "cell_type": "markdown",
   "metadata": {},
   "source": [
    "### Question 4: Introduction to Linear Algebra with Python and Numpy\n",
    "The following set of exercises aims to introduce some basic linear algebra concepts that you can carry out with Python and the standard library numpy. In the first exercise, we are going to see how a matrix product differs from a Hadamard product. You are given the following information:\n",
    "\n",
    "$A = \\begin{bmatrix}0&-1\\\\1&0\\end{bmatrix}$, $v_{1} = \\begin{bmatrix}0\\\\7\\end{bmatrix}$, and $v_{2} = \\begin{bmatrix}2\\\\3\\end{bmatrix}$.\n",
    "\n",
    "You already know by now that you can multiple the matrix $A$ to a vector $v$ to transform $v$ is some way. We could concatenate multiple $v$ vectors in a single matrix so that a single application of $A$ transforms them all, as shown below:\n",
    "\n",
    "$$V=\\begin{bmatrix}\n",
    "|&|\\\\\n",
    "v_{1}&v_{2}\\\\\n",
    "|&|\n",
    "\\end{bmatrix}, \\quad Av = \\begin{bmatrix}\n",
    "|&|\\\\\n",
    "Av_{1}&Av_{2}\\\\\n",
    "|&|\n",
    "\\end{bmatrix}$$\n",
    "\n",
    "Your task below is to:\n",
    "\n",
    "- Create matrix $A$ above using a numpy array\n",
    "- Create the matrix $V$ using numpy\n",
    "- Write code to create the Hadamard product\n",
    "- Write code to create and print the Matrix-vector product, as shown above\n",
    "\n",
    "Use the template code below. Do not change the parts indicated. Execute and print the output. Does it make sense?"
   ]
  },
  {
   "cell_type": "code",
   "execution_count": null,
   "metadata": {
    "collapsed": true,
    "jupyter": {
     "outputs_hidden": true
    }
   },
   "outputs": [],
   "source": [
    "# Student's copy\n",
    "import numpy as np\n",
    "\n",
    "A =  # define A\n",
    "V =  # define V\n",
    "hadamard_AV = # write code to compute the hadamard product of A and V\n",
    "Matrix_AV = # write code to compute the matrix product of A and V \n",
    "\n",
    "\n",
    "#-----------------Don't change anything here------------------------#\n",
    "print('A: \\n',A)\n",
    "print('V: \\n',V)\n",
    "print('\\nHadamard Product of A and V: \\n',hadamard_AV)\n",
    "print('\\nMatrix Product of A and V: \\n', Matrix_AV)"
   ]
  },
  {
   "cell_type": "code",
   "execution_count": 29,
   "metadata": {
    "collapsed": true,
    "jupyter": {
     "outputs_hidden": true
    }
   },
   "outputs": [
    {
     "name": "stdout",
     "output_type": "stream",
     "text": [
      "A: \n",
      " [[ 0 -1]\n",
      " [ 1  0]]\n",
      "V: \n",
      " [[0 2]\n",
      " [7 3]]\n",
      "\n",
      "Hadamard Product of A and V: \n",
      " [[ 0 -2]\n",
      " [ 7  0]]\n",
      "\n",
      "Matrix Product of A and V: \n",
      " [[-7 -3]\n",
      " [ 0  2]]\n"
     ]
    }
   ],
   "source": [
    "# Evaluation copy\n",
    "import numpy as np\n",
    "\n",
    "A = np.array([[0,-1],[1,0]])  # define A\n",
    "V = np.array([[0,2],[7,3]])  # define V\n",
    "\n",
    "print('A: \\n',A)\n",
    "print('V: \\n',V)\n",
    "print('\\nHadamard Product of A and V: \\n',A*V)\n",
    "print('\\nMatrix Product of A and V: \\n', A@V)"
   ]
  },
  {
   "cell_type": "markdown",
   "metadata": {},
   "source": [
    "### Question 5: Vector Norms\n",
    "\n",
    "Having seen some examples of various kinds of matrix vector products, we now move onto the subject of vector norms, which give us an idea of how large in magnitude vectors are. There are several different vector norms. $L$-2 and $L$-1 happen to be two of the most popular, frequently used norms. For a vector $v = [v_{1},v_{2},\\cdots,v_{n}]^{T} \\in \\mathbb{R}^{n}$, we have:\n",
    "\n",
    "$||v||_{2} = \\sqrt{v^{2}_{1}+v^{2}_{2}+\\cdots+v^{2}_{n}}$ $\\quad$           ($L$-2 norm of $v$)\n",
    "\n",
    "$||v||_{1} = |v_{1}|+|v_{2}|+\\cdots+|v_{n}|$     $\\quad$                   ($L$-1 norm of $v$)\n",
    "\n",
    "You can use the numpy function `numpy.linalg.norm` to compute vector and matrix norms of different kinds by passing the appropriate arguments as shown below:\n",
    "\n",
    ">     from numpy.linalg import norm\n",
    ">\n",
    ">     l2 = norm(v,2)  # computes l2 norm of v\n",
    ">     l1 = norm(v,1)  # computes l1 norm of v\n",
    "\n",
    "Your tasks are:\n",
    "- Write your own functions to compute the l2 and l1 norms respectively. Complete the function definitions given below by using the norm definitions above.\n",
    "- Compare your answers on any vector of your own to the ones obtained by numpy's norm function\n",
    "- Compare the l1 and l2 norms of any 2-element vector before and after multiplication by the matrix $A$ we defined previously. They should turn out to be the same. Why do you think that is the case? (**_Hint_**: Think about what is special about A.) \n"
   ]
  },
  {
   "cell_type": "code",
   "execution_count": null,
   "metadata": {
    "collapsed": true,
    "jupyter": {
     "outputs_hidden": true
    }
   },
   "outputs": [],
   "source": [
    "# student copy\n",
    "\n",
    "from numpy.linalg import norm\n",
    "import numpy as np\n",
    "\n",
    "def l2(v):\n",
    "    '''Function computes l2 norm for given vector v'''\n",
    "    \n",
    "    l2_norm =  # write code here.\n",
    "    \n",
    "    return l2_norm\n",
    "\n",
    "def l1(v):\n",
    "    '''Function computes l1 norm for given vector v'''\n",
    "    \n",
    "    l1_norm =  # write code here.\n",
    "    \n",
    "    return l1_norm\n",
    "\n",
    "v = # define a vector here\n",
    "\n",
    "\n",
    "#----------------------------------Don't change this!--------------------------------------#\n",
    "print(\"L2 norm with \\'norm\\': %.4f\" % norm(v,2),' | L2 norm with function: %.4f' % l2(v))\n",
    "print('L1 norm with \\'norm\\': %.3f' %norm(v,1),' | L2 norm with function: %.3f'%l1(v))"
   ]
  },
  {
   "cell_type": "code",
   "execution_count": 16,
   "metadata": {
    "collapsed": true,
    "jupyter": {
     "outputs_hidden": true
    }
   },
   "outputs": [
    {
     "name": "stdout",
     "output_type": "stream",
     "text": [
      "L2 norm with 'norm': 1.4142  | L2 norm with function: 1.4142\n",
      "L1 norm with 'norm': 2.000  | L2 norm with function: 2.000\n"
     ]
    }
   ],
   "source": [
    "# evaluatin copy\n",
    "from numpy.linalg import norm\n",
    "import numpy as np\n",
    "\n",
    "def l2(v):\n",
    "    '''Function computes l2 norm for given vector v'''\n",
    "    \n",
    "    return np.sqrt((v**2).sum())\n",
    "\n",
    "def l1(v):\n",
    "    '''Function computes l1 norm for given vector v'''\n",
    "    \n",
    "    return np.abs(v).sum()\n",
    "\n",
    "v = np.array([1,1])\n",
    "\n",
    "print(\"L2 norm with \\'norm\\': %.4f\" % norm(v,2),' | L2 norm with function: %.4f' % l2(v))\n",
    "print('L1 norm with \\'norm\\': %.3f' %norm(v,1),' | L2 norm with function: %.3f'%l1(v))\n"
   ]
  },
  {
   "cell_type": "markdown",
   "metadata": {},
   "source": [
    "### Question 6: Loading and Visualizing Datasets\n",
    "\n",
    "**(a)** For the purposes of this section, we will have you load and visualize the Iris dataset and its various features. The Iris flower data set or Fisher's Iris data set is a multivariate data set introduced by the British statistician, eugenicist, and biologist Ronald Fisher in his 1936 paper *The use of multiple measurements in taxonomic problems* as an example of linear discriminant analysis. You may import the dataset using the popular sklearn library by running the following snippet of code:\n",
    "\n",
    ">     from sklearn.datasets import load_iris\n",
    ">     \n",
    ">     iris = load_iris()\n",
    "\n",
    "(**_Note_**: You may have to install sklearn via the `pip install sklearn` command.)\n",
    "\n",
    "Explore various features of the dataset, and then answer the following questions:\n",
    "- How many feature attributes does the dataset have?\n",
    "- What are the feature names for the attributes?\n",
    "- How many different target classes exist in the dataset?\n",
    "- What are the class names? \n",
    "\n",
    "The names of the various features and targets should printed in an output cell once you execute it. (**_Hint_**: It may be helpful to refer to the documentation for the `load_iris` function.)\n",
    " "
   ]
  },
  {
   "cell_type": "code",
   "execution_count": 88,
   "metadata": {},
   "outputs": [],
   "source": [
    "# student's copy\n",
    "\n",
    "# pip install sklearn  (uncomment if sklearn already installed)\n",
    "from sklearn.datasets import load_iris\n",
    "\n",
    "iris = load_iris() \n",
    "\n",
    "#-----------Write Code below-----------------#"
   ]
  },
  {
   "cell_type": "code",
   "execution_count": 89,
   "metadata": {},
   "outputs": [
    {
     "name": "stdout",
     "output_type": "stream",
     "text": [
      "Feature names are:\n",
      "\n",
      "['sepal length (cm)', 'sepal width (cm)', 'petal length (cm)', 'petal width (cm)']\n",
      "\n",
      "\n",
      "Class names are:\n",
      "\n",
      "['setosa' 'versicolor' 'virginica']\n"
     ]
    }
   ],
   "source": [
    "# Evaluation copy\n",
    "from sklearn.datasets import load_iris\n",
    "\n",
    "iris = load_iris()\n",
    "\n",
    "# Print feature names\n",
    "print('Feature names are:\\n')\n",
    "print(iris['feature_names'])\n",
    "\n",
    "# Print class names\n",
    "print('\\n\\nClass names are:\\n')\n",
    "print(iris['target_names'])\n"
   ]
  },
  {
   "cell_type": "markdown",
   "metadata": {},
   "source": [
    "---\n",
    "**(b)** We are now going to visualize the data. Your analysis of the Iris dataset above should have revealed that it has more than two features. For ease of use however, we are only going to use two of these features and plot them against each other in a scatter plot for each training example in the dataset. We are going to use the standard plotting library, Matplotlib, for this purpose. Once again, you might have to install the matplotlib library via a `pip install matplotlib` command. Fill in the template code provide below in the places indicated to generate 2D scatter plots for various feature combinations as shown in the image below. \n",
    "\n",
    "![alt text](https://drive.google.com/uc?export=view&id=1hlez1pf_T-PhUxBv7qVyhUNLjg-tE3fk)\n",
    "\n",
    "Do all feature crossplots result in well-distinguished classes? Based off your plots, which feature combinations result in the most poorly-distinuished classes? Which two features give the most well-distinuished classes?"
   ]
  },
  {
   "cell_type": "code",
   "execution_count": null,
   "metadata": {},
   "outputs": [],
   "source": [
    "# Student's copy\n",
    "\n",
    "import matplotlib.pyplot as plt\n",
    "import numpy as np\n",
    "import itertools\n",
    "\n",
    "def combinations(iterable, r=2):\n",
    "   \"\"\"Function generates unique pairwise permutations for the given iterable\"\"\"\n",
    "    pool = tuple(iterable)\n",
    "    n = len(pool)\n",
    "    if r > n:\n",
    "        return\n",
    "    indices = list(range(r))\n",
    "    yield tuple(pool[i] for i in indices)\n",
    "    while True:\n",
    "        for i in reversed(range(r)):\n",
    "            if indices[i] != i + n - r:\n",
    "                break\n",
    "        else:\n",
    "            return\n",
    "        indices[i] += 1\n",
    "        for j in range(i+1, r):\n",
    "            indices[j] = indices[j-1] + 1\n",
    "        yield tuple(pool[i] for i in indices)\n",
    "        \n",
    "\n",
    "feature_names = # write code to extract list of feature names\n",
    "class_names =  # extract list of class names\n",
    "\n",
    "features = # extract features as an N x D numpy array, where N is the number of data points and D is the number of features\n",
    "labels = # extract labels as an N dimensional numpy array, where N is the number of datapoints. It has a label value corresponding to each datapoint above\n",
    "\n",
    "# Extract total number of crossplots possible with the given feature sizes\n",
    "total_plots = len([*combinations(list(range(len(feature_names))), 2)])\n",
    "\n",
    "# generate array of plots of the desired shape. play around with this to get the appropriate shape\n",
    "fig, axes = plt.subplots(1,total_plots, figsize=(20,12))\n",
    "\n",
    "for ax, feature_combination in zip(axes.flatten(), combinations(list(range(len(feature_names))), 2)):\n",
    "    \n",
    "    feature_1 = feature_combination[0]\n",
    "    feature_2 = feature_combination[1]\n",
    "    \n",
    "    for class_num in np.unique(labels):\n",
    "        ax.scatter(features[:,feature_1][labels==class_num], features[:,feature_2][labels==class_num], label = class_names[class_num])\n",
    "\n",
    "    ax.set_xlabel(feature_names[feature_1])\n",
    "    ax.set_ylabel(feature_names[feature_2])\n",
    "    ax.legend()\n",
    "\n",
    "plt.show()"
   ]
  },
  {
   "cell_type": "code",
   "execution_count": null,
   "metadata": {},
   "outputs": [],
   "source": [
    "# Evaluation Copy\n",
    "\n",
    "import matplotlib.pyplot as plt\n",
    "import numpy as np\n",
    "import itertools\n",
    "\n",
    "def combinations(iterable, r=2):\n",
    "    \"\"\"Function generates unique pairwise permutations for the given iterable\"\"\"\n",
    "    pool = tuple(iterable)\n",
    "    n = len(pool)\n",
    "    if r > n:\n",
    "        return\n",
    "    indices = list(range(r))\n",
    "    yield tuple(pool[i] for i in indices)\n",
    "    while True:\n",
    "        for i in reversed(range(r)):\n",
    "            if indices[i] != i + n - r:\n",
    "                break\n",
    "        else:\n",
    "            return\n",
    "        indices[i] += 1\n",
    "        for j in range(i+1, r):\n",
    "            indices[j] = indices[j-1] + 1\n",
    "        yield tuple(pool[i] for i in indices)\n",
    "        \n",
    "\n",
    "feature_names = iris.feature_names  # extract list of feature names\n",
    "class_names = iris.target_names  # extract list of class names\n",
    "\n",
    "data = load_iris(return_X_y=True)  # extract data array\n",
    "features, labels = data[0], data[1]  # extract feature and label information\n",
    "\n",
    "total_plots = len([*combinations(list(range(len(feature_names))), 2)])\n",
    "fig, axes = plt.subplots(2,3, figsize=(20,12))\n",
    "\n",
    "for ax, feature_combination in zip(axes.flatten(), combinations(list(range(len(feature_names))), 2)):\n",
    "    \n",
    "    feature_1 = feature_combination[0]\n",
    "    feature_2 = feature_combination[1]\n",
    "    \n",
    "    for class_num in np.unique(labels):\n",
    "        ax.scatter(features[:,feature_1][labels==class_num], features[:,feature_2][labels==class_num], label = class_names[class_num])\n",
    "\n",
    "    ax.set_xlabel(feature_names[feature_1])\n",
    "    ax.set_ylabel(feature_names[feature_2])\n",
    "    ax.legend()\n",
    "\n",
    "plt.show()"
   ]
  },
  {
   "cell_type": "markdown",
   "metadata": {},
   "source": [
    "### Question 7: Classifying Data with K-Nearest Neighbors\n",
    "\n",
    "In this section, we are going to use the K-NN algorithm you studied in class to classify datapoints from the Iris dataset we just analyzed. Once again, we will use the popular sklearn library to provide us with ready-made classes and functions we can utilize towards this purpose. We are going to analyze the effect of traning data size and the parameter specifying the number of neighbors used to query datapoints in the algorithm. The template code is given below. Play around with the parameters and then answer the following questions:\n",
    "\n",
    "- What happens when you set the number of neighbors parameter to be too high? Too low?\n",
    "- What happens when the number of training points is too low? Too high?\n",
    "- What feature combinations result in the most accurate results (by visual inspection). Try some of the feature combinations you identified in the last section."
   ]
  },
  {
   "cell_type": "code",
   "execution_count": 134,
   "metadata": {},
   "outputs": [
    {
     "data": {
      "image/png": "[encoded data removed]",
      "text/plain": [
       "<Figure size 576x432 with 1 Axes>"
      ]
     },
     "metadata": {
      "needs_background": "light"
     },
     "output_type": "display_data"
    }
   ],
   "source": [
    "# Student's copy\n",
    "import seaborn as sns\n",
    "from sklearn.model_selection import train_test_split\n",
    "from matplotlib.colors import ListedColormap\n",
    "from sklearn import neighbors, datasets\n",
    "\n",
    "features = [0,1]  # specify feature indices here to use\n",
    "n_neighbors = 1  # number of neighbours parameter\n",
    "N_train = 10  # training data size\n",
    "N_test = 150 - N_train\n",
    "\n",
    "# import iris data to play with\n",
    "iris = load_iris()\n",
    "\n",
    "# we only take the first two features. We could avoid this ugly slicing by using a two-dim dataset Try otehr feature combinations\n",
    "X = iris.data[:, features]\n",
    "y = iris.target\n",
    "\n",
    "X_train, X_test, y_train, y_test = train_test_split(X, y, test_size=N_test, train_size=N_train, random_state=42)\n",
    "\n",
    "h = .02  # step size in the mesh\n",
    "\n",
    "cmap_light = ListedColormap(['orange', 'cyan', 'cornflowerblue'])\n",
    "cmap_bold = ['darkorange', 'c', 'darkblue']\n",
    "\n",
    "clf = neighbors.KNeighborsClassifier(n_neighbors)\n",
    "clf.fit(X_train, y_train)\n",
    "\n",
    "# Plot the decision boundary. For that, we will assign a color to each # point in the mesh [x_min, x_max]x[y_min, y_max].\n",
    "x_min, x_max = X[:, 0].min() - 1, X[:, 0].max() + 1\n",
    "y_min, y_max = X[:, 1].min() - 1, X[:, 1].max() + 1\n",
    "xx, yy = np.meshgrid(np.arange(x_min, x_max, h), np.arange(y_min, y_max, h))\n",
    "Z = clf.predict(np.c_[xx.ravel(), yy.ravel()])\n",
    "\n",
    "# Put the result into a color plot\n",
    "Z = Z.reshape(xx.shape)\n",
    "\n",
    "fig, ax = plt.subplots(figsize=(8, 6))\n",
    "ax.contourf(xx, yy, Z, cmap=cmap_light)\n",
    "\n",
    "# Plot also the training points\n",
    "\n",
    "for class_num in np.unique(y_test):\n",
    "        ax.scatter(X_test[:,0][y_test==class_num], X_test[:,1][y_test==class_num], label = class_names[class_num])\n",
    "\n",
    "plt.xlim(xx.min(), xx.max())\n",
    "plt.ylim(yy.min(), yy.max())\n",
    "plt.title(\"3-Class classification (k = %i)\" % (n_neighbors))\n",
    "plt.xlabel(iris.feature_names[features[0]])\n",
    "plt.ylabel(iris.feature_names[features[1]])\n",
    "plt.legend()\n",
    "plt.show()"
   ]
  },
  {
   "cell_type": "code",
   "execution_count": 134,
   "metadata": {},
   "outputs": [
    {
     "data": {
      "image/png": "[encoded data removed]",
      "text/plain": [
       "<Figure size 576x432 with 1 Axes>"
      ]
     },
     "metadata": {
      "needs_background": "light"
     },
     "output_type": "display_data"
    }
   ],
   "source": [
    "# Evaluation copy\n",
    "import seaborn as sns\n",
    "from sklearn.model_selection import train_test_split\n",
    "from matplotlib.colors import ListedColormap\n",
    "from sklearn import neighbors, datasets\n",
    "\n",
    "features = [0,1]  # specify feature indices here to use\n",
    "n_neighbors = 1  # number of neighbours parameter\n",
    "N_train = 10  # training data size\n",
    "N_test = 150 - N_train\n",
    "\n",
    "# import iris data to play with\n",
    "iris = load_iris()\n",
    "\n",
    "# we only take the first two features. We could avoid this ugly slicing by using a two-dim dataset Try otehr feature combinations\n",
    "X = iris.data[:, features]\n",
    "y = iris.target\n",
    "\n",
    "X_train, X_test, y_train, y_test = train_test_split(X, y, test_size=N_test, train_size=N_train, random_state=42)\n",
    "\n",
    "h = .02  # step size in the mesh\n",
    "\n",
    "cmap_light = ListedColormap(['orange', 'cyan', 'cornflowerblue'])\n",
    "cmap_bold = ['darkorange', 'c', 'darkblue']\n",
    "\n",
    "clf = neighbors.KNeighborsClassifier(n_neighbors)\n",
    "clf.fit(X_train, y_train)\n",
    "\n",
    "# Plot the decision boundary. For that, we will assign a color to each # point in the mesh [x_min, x_max]x[y_min, y_max].\n",
    "x_min, x_max = X[:, 0].min() - 1, X[:, 0].max() + 1\n",
    "y_min, y_max = X[:, 1].min() - 1, X[:, 1].max() + 1\n",
    "xx, yy = np.meshgrid(np.arange(x_min, x_max, h), np.arange(y_min, y_max, h))\n",
    "Z = clf.predict(np.c_[xx.ravel(), yy.ravel()])\n",
    "\n",
    "# Put the result into a color plot\n",
    "Z = Z.reshape(xx.shape)\n",
    "\n",
    "fig, ax = plt.subplots(figsize=(8, 6))\n",
    "ax.contourf(xx, yy, Z, cmap=cmap_light)\n",
    "\n",
    "# Plot also the training points\n",
    "\n",
    "for class_num in np.unique(y_test):\n",
    "        ax.scatter(X_test[:,0][y_test==class_num], X_test[:,1][y_test==class_num], label = class_names[class_num])\n",
    "\n",
    "plt.xlim(xx.min(), xx.max())\n",
    "plt.ylim(yy.min(), yy.max())\n",
    "plt.title(\"3-Class classification (k = %i)\" % (n_neighbors))\n",
    "plt.xlabel(iris.feature_names[features[0]])\n",
    "plt.ylabel(iris.feature_names[features[1]])\n",
    "plt.legend()\n",
    "plt.show()"
   ]
  }
 ],
 "metadata": {
  "accelerator": "GPU",
  "colab": {
   "collapsed_sections": [],
   "name": "Lecture 01 - Python_basics.ipynb",
   "provenance": [],
   "toc_visible": true
  },
  "kernelspec": {
   "display_name": "Python 3",
   "language": "python",
   "name": "python3"
  },
  "language_info": {
   "codemirror_mode": {
    "name": "ipython",
    "version": 3
   },
   "file_extension": ".py",
   "mimetype": "text/x-python",
   "name": "python",
   "nbconvert_exporter": "python",
   "pygments_lexer": "ipython3",
   "version": "3.7.4"
  }
 },
 "nbformat": 4,
 "nbformat_minor": 4
}
